{
 "cells": [
  {
   "cell_type": "markdown",
   "metadata": {},
   "source": [
    "# Text Processing\n",
    "\n",
    "## Capturing Text Data\n",
    "\n",
    "### Plain Text"
   ]
  },
  {
   "cell_type": "code",
   "execution_count": 1,
   "metadata": {},
   "outputs": [
    {
     "name": "stdout",
     "output_type": "stream",
     "text": [
      "Hieroglyphic writing dates from c. 3000 BC, and is composed of hundreds of symbols. A hieroglyph can represent a word, a sound, or a silent determinative; and the same symbol can serve different purposes in different contexts. Hieroglyphs were a formal script, used on stone monuments and in tombs, that could be as detailed as individual works of art.\n",
      "\n"
     ]
    }
   ],
   "source": [
    "import os\n",
    "\n",
    "# Read in a plain text file\n",
    "with open(os.path.join(\"data\", \"hieroglyph.txt\"), \"r\") as f:\n",
    "    text = f.read()\n",
    "    print(text)"
   ]
  },
  {
   "cell_type": "markdown",
   "metadata": {},
   "source": [
    "### Tabular Data"
   ]
  },
  {
   "cell_type": "code",
   "execution_count": 2,
   "metadata": {
    "scrolled": true
   },
   "outputs": [
    {
     "data": {
      "text/html": [
       "<div>\n",
       "<style scoped>\n",
       "    .dataframe tbody tr th:only-of-type {\n",
       "        vertical-align: middle;\n",
       "    }\n",
       "\n",
       "    .dataframe tbody tr th {\n",
       "        vertical-align: top;\n",
       "    }\n",
       "\n",
       "    .dataframe thead th {\n",
       "        text-align: right;\n",
       "    }\n",
       "</style>\n",
       "<table border=\"1\" class=\"dataframe\">\n",
       "  <thead>\n",
       "    <tr style=\"text-align: right;\">\n",
       "      <th></th>\n",
       "      <th>publisher</th>\n",
       "      <th>title</th>\n",
       "    </tr>\n",
       "  </thead>\n",
       "  <tbody>\n",
       "    <tr>\n",
       "      <th>0</th>\n",
       "      <td>Livemint</td>\n",
       "      <td>fed's charles plosser sees high bar for change...</td>\n",
       "    </tr>\n",
       "    <tr>\n",
       "      <th>1</th>\n",
       "      <td>IFA Magazine</td>\n",
       "      <td>us open: stocks fall after fed official hints ...</td>\n",
       "    </tr>\n",
       "    <tr>\n",
       "      <th>2</th>\n",
       "      <td>IFA Magazine</td>\n",
       "      <td>fed risks falling 'behind the curve', charles ...</td>\n",
       "    </tr>\n",
       "    <tr>\n",
       "      <th>3</th>\n",
       "      <td>Moneynews</td>\n",
       "      <td>fed's plosser: nasty weather has curbed job gr...</td>\n",
       "    </tr>\n",
       "    <tr>\n",
       "      <th>4</th>\n",
       "      <td>NASDAQ</td>\n",
       "      <td>plosser: fed may have to accelerate tapering pace</td>\n",
       "    </tr>\n",
       "  </tbody>\n",
       "</table>\n",
       "</div>"
      ],
      "text/plain": [
       "      publisher                                              title\n",
       "0      Livemint  fed's charles plosser sees high bar for change...\n",
       "1  IFA Magazine  us open: stocks fall after fed official hints ...\n",
       "2  IFA Magazine  fed risks falling 'behind the curve', charles ...\n",
       "3     Moneynews  fed's plosser: nasty weather has curbed job gr...\n",
       "4        NASDAQ  plosser: fed may have to accelerate tapering pace"
      ]
     },
     "execution_count": 2,
     "metadata": {},
     "output_type": "execute_result"
    }
   ],
   "source": [
    "import pandas as pd\n",
    "\n",
    "# Extract text column from a dataframe\n",
    "df = pd.read_csv(os.path.join(\"data\", \"news.csv\"))\n",
    "df.head()[['publisher', 'title']]\n",
    "\n",
    "# Convert text column to lowercase\n",
    "df['title'] = df['title'].str.lower()\n",
    "df.head()[['publisher', 'title']]"
   ]
  },
  {
   "cell_type": "markdown",
   "metadata": {},
   "source": [
    "### Online Resource"
   ]
  },
  {
   "cell_type": "code",
   "execution_count": 3,
   "metadata": {
    "scrolled": true
   },
   "outputs": [
    {
     "name": "stdout",
     "output_type": "stream",
     "text": [
      "{\n",
      "    \"success\": {\n",
      "        \"total\": 1\n",
      "    },\n",
      "    \"contents\": {\n",
      "        \"quotes\": [\n",
      "            {\n",
      "                \"quote\": \"Remove the temptation to settle for anything short of what you deserve.\",\n",
      "                \"author\": \"Lorii Myers\",\n",
      "                \"length\": \"71\",\n",
      "                \"tags\": [\n",
      "                    \"expectation\",\n",
      "                    \"inspire\",\n",
      "                    \"perfection\"\n",
      "                ],\n",
      "                \"category\": \"inspire\",\n",
      "                \"title\": \"Inspiring Quote of the day\",\n",
      "                \"date\": \"2019-04-23\",\n",
      "                \"id\": null\n",
      "            }\n",
      "        ],\n",
      "        \"copyright\": \"2017-19 theysaidso.com\"\n",
      "    }\n",
      "}\n",
      "Remove the temptation to settle for anything short of what you deserve. \n",
      "-- Lorii Myers\n"
     ]
    }
   ],
   "source": [
    "import requests\n",
    "import json\n",
    "\n",
    "# Fetch data from a REST API\n",
    "r = requests.get(\n",
    "    \"https://quotes.rest/qod.json\")\n",
    "res = r.json()\n",
    "print(json.dumps(res, indent=4))\n",
    "\n",
    "# Extract relevant object and field\n",
    "q = res[\"contents\"][\"quotes\"][0]\n",
    "print(q[\"quote\"], \"\\n--\", q[\"author\"])"
   ]
  },
  {
   "cell_type": "markdown",
   "metadata": {},
   "source": [
    "## Cleaning"
   ]
  },
  {
   "cell_type": "code",
   "execution_count": 4,
   "metadata": {
    "scrolled": true
   },
   "outputs": [
    {
     "name": "stdout",
     "output_type": "stream",
     "text": [
      "<html op=\"news\"><head><meta name=\"referrer\" content=\"origin\"><meta name=\"viewport\" content=\"width=device-width, initial-scale=1.0\"><link rel=\"stylesheet\" type=\"text/css\" href=\"news.css?cFbyIDUhzesU5MLYp5wA\">\n",
      "            <link rel=\"shortcut icon\" href=\"favicon.ico\">\n",
      "          <link rel=\"alternate\" type=\"application/rss+xml\" title=\"RSS\" href=\"rss\">\n",
      "        <title>Hacker News</title></head><body><center><table id=\"hnmain\" border=\"0\" cellpadding=\"0\" cellspacing=\"0\" width=\"85%\" bgcolor=\"#f6f6ef\">\n",
      "        <tr><td bgcolor=\"#ff6600\"><table border=\"0\" cellpadding=\"0\" cellspacing=\"0\" width=\"100%\" style=\"padding:2px\"><tr><td style=\"width:18px;padding-right:4px\"><a href=\"https://news.ycombinator.com\"><img src=\"y18.gif\" width=\"18\" height=\"18\" style=\"border:1px white solid;\"></a></td>\n",
      "                  <td style=\"line-height:12pt; height:10px;\"><span class=\"pagetop\"><b class=\"hnname\"><a href=\"news\">Hacker News</a></b>\n",
      "              <a href=\"newest\">new</a> | <a href=\"front\">past</a> | <a href=\"newcomments\">comments</a> | <a href=\"ask\">ask</a> | <a href=\"show\">show</a> | <a href=\"jobs\">jobs</a> | <a href=\"submit\">submit</a>            </span></td><td style=\"text-align:right;padding-right:4px;\"><span class=\"pagetop\">\n",
      "                              <a href=\"login?goto=news\">login</a>\n",
      "                          </span></td>\n",
      "              </tr></table></td></tr>\n",
      "<tr id=\"pagespace\" title=\"\" style=\"height:10px\"></tr><tr><td><table border=\"0\" cellpadding=\"0\" cellspacing=\"0\" class=\"itemlist\">\n",
      "              <tr class='athing' id='19728132'>\n",
      "      <td align=\"right\" valign=\"top\" class=\"title\"><span class=\"rank\">1.</span></td>      <td valign=\"top\" class=\"votelinks\"><center><a id='up_19728132' href='vote?id=19728132&amp;how=up&amp;goto=news'><div class='votearrow' title='upvote'></div></a></center></td><td class=\"title\"><a href=\"https://www.deepsouthventures.com/i-sell-onions-on-the-internet/\" class=\"storylink\">I Sell Onions on the Internet</a><span class=\"sitebit comhead\"> (<a href=\"from?site=deepsouthventures.com\"><span class=\"sitestr\">deepsouthventures.com</span></a>)</span></td></tr><tr><td colspan=\"2\"></td><td class=\"subtext\">\n",
      "        <span class=\"score\" id=\"score_19728132\">1744 points</span> by <a href=\"user?id=eightturn\" class=\"hnuser\">eightturn</a> <span class=\"age\"><a href=\"item?id=19728132\">9 hours ago</a></span> <span id=\"unv_19728132\"></span> | <a href=\"hide?id=19728132&amp;goto=news\">hide</a> | <a href=\"item?id=19728132\">278&nbsp;comments</a>              </td></tr>\n",
      "      <tr class=\"spacer\" style=\"height:5px\"></tr>\n",
      "                <tr class='athing' id='19732794'>\n",
      "      <td align=\"right\" valign=\"top\" class=\"title\"><span class=\"rank\">2.</span></td>      <td valign=\"top\" class=\"votelinks\"><center><a id='up_19732794' href='vote?id=19732794&amp;how=up&amp;goto=news'><div class='votearrow' title='upvote'></div></a></center></td><td class=\"title\"><a href=\"https://wapm.io/?hn\" class=\"storylink\">Show HN: WAPM – Package Manager for WebAssembly</a><span class=\"sitebit comhead\"> (<a href=\"from?site=wapm.io\"><span class=\"sitestr\">wapm.io</span></a>)</span></td></tr><tr><td colspan=\"2\"></td><td class=\"subtext\">\n",
      "        <span class=\"score\" id=\"score_19732794\">54 points</span> by <a href=\"user?id=syrusakbary\" class=\"hnuser\">syrusakbary</a> <span class=\"age\"><a href=\"item?id=19732794\">1 hour ago</a></span> <span id=\"unv_19732794\"></span> | <a href=\"hide?id=19732794&amp;goto=news\">hide</a> | <a href=\"item?id=19732794\">19&nbsp;comments</a>              </td></tr>\n",
      "      <tr class=\"spacer\" style=\"height:5px\"></tr>\n",
      "                <tr class='athing' id='19732447'>\n",
      "      <td align=\"right\" valign=\"top\" class=\"title\"><span class=\"rank\">3.</span></td>      <td valign=\"top\" class=\"votelinks\"><center><a id='up_19732447' href='vote?id=19732447&amp;how=up&amp;goto=news'><div class='votearrow' title='upvote'></div></a></center></td><td class=\"title\"><a href=\"https://github.com/uber/cadence\" class=\"storylink\">Cadence: Uber's Workflow Orchestration Engine</a><span class=\"sitebit comhead\"> (<a href=\"from?site=github.com\"><span class=\"sitestr\">github.com</span></a>)</span></td></tr><tr><td colspan=\"2\"></td><td class=\"subtext\">\n",
      "        <span class=\"score\" id=\"score_19732447\">63 points</span> by <a href=\"user?id=vruiz\" class=\"hnuser\">vruiz</a> <span class=\"age\"><a href=\"item?id=19732447\">2 hours ago</a></span> <span id=\"unv_19732447\"></span> | <a href=\"hide?id=19732447&amp;goto=news\">hide</a> | <a href=\"item?id=19732447\">21&nbsp;comments</a>              </td></tr>\n",
      "      <tr class=\"spacer\" style=\"height:5px\"></tr>\n",
      "                <tr class='athing' id='19730058'>\n",
      "      <td align=\"right\" valign=\"top\" class=\"title\"><span class=\"rank\">4.</span></td>      <td valign=\"top\" class=\"votelinks\"><center><a id='up_19730058' href='vote?id=19730058&amp;how=up&amp;goto=news'><div class='votearrow' title='upvote'></div></a></center></td><td class=\"title\"><a href=\"http://fortune.com/longform/kleiner-perkins-vc-fall/\" class=\"storylink\">How the Kleiner Perkins Empire Fell</a><span class=\"sitebit comhead\"> (<a href=\"from?site=fortune.com\"><span class=\"sitestr\">fortune.com</span></a>)</span></td></tr><tr><td colspan=\"2\"></td><td class=\"subtext\">\n",
      "        <span class=\"score\" id=\"score_19730058\">86 points</span> by <a href=\"user?id=walterbell\" class=\"hnuser\">walterbell</a> <span class=\"age\"><a href=\"item?id=19730058\">2 hours ago</a></span> <span id=\"unv_19730058\"></span> | <a href=\"hide?id=19730058&amp;goto=news\">hide</a> | <a href=\"item?id=19730058\">9&nbsp;comments</a>              </td></tr>\n",
      "      <tr class=\"spacer\" style=\"height:5px\"></tr>\n",
      "                <tr class='athing' id='19732821'>\n",
      "      <td align=\"right\" valign=\"top\" class=\"title\"><span class=\"rank\">5.</span></td>      <td valign=\"top\" class=\"votelinks\"><center><a id='up_19732821' href='vote?id=19732821&amp;how=up&amp;goto=news'><div class='votearrow' title='upvote'></div></a></center></td><td class=\"title\"><a href=\"https://ifixit.org/blog/16025/galaxy-fold-failure-causes/\" class=\"storylink\">Here’s Why We Think Galaxy Folds Are Failing</a><span class=\"sitebit comhead\"> (<a href=\"from?site=ifixit.org\"><span class=\"sitestr\">ifixit.org</span></a>)</span></td></tr><tr><td colspan=\"2\"></td><td class=\"subtext\">\n",
      "        <span class=\"score\" id=\"score_19732821\">42 points</span> by <a href=\"user?id=lambada\" class=\"hnuser\">lambada</a> <span class=\"age\"><a href=\"item?id=19732821\">1 hour ago</a></span> <span id=\"unv_19732821\"></span> | <a href=\"hide?id=19732821&amp;goto=news\">hide</a> | <a href=\"item?id=19732821\">29&nbsp;comments</a>              </td></tr>\n",
      "      <tr class=\"spacer\" style=\"height:5px\"></tr>\n",
      "                <tr class='athing' id='19730799'>\n",
      "      <td align=\"right\" valign=\"top\" class=\"title\"><span class=\"rank\">6.</span></td>      <td valign=\"top\" class=\"votelinks\"><center><a id='up_19730799' href='vote?id=19730799&amp;how=up&amp;goto=news'><div class='votearrow' title='upvote'></div></a></center></td><td class=\"title\"><a href=\"https://www.dhruvonmath.com/2018/12/31/matrices/\" class=\"storylink\">Relearning Matrices as Linear Functions</a><span class=\"sitebit comhead\"> (<a href=\"from?site=dhruvonmath.com\"><span class=\"sitestr\">dhruvonmath.com</span></a>)</span></td></tr><tr><td colspan=\"2\"></td><td class=\"subtext\">\n",
      "        <span class=\"score\" id=\"score_19730799\">132 points</span> by <a href=\"user?id=dhruvp\" class=\"hnuser\">dhruvp</a> <span class=\"age\"><a href=\"item?id=19730799\">5 hours ago</a></span> <span id=\"unv_19730799\"></span> | <a href=\"hide?id=19730799&amp;goto=news\">hide</a> | <a href=\"item?id=19730799\">53&nbsp;comments</a>              </td></tr>\n",
      "      <tr class=\"spacer\" style=\"height:5px\"></tr>\n",
      "                <tr class='athing' id='19732032'>\n",
      "      <td align=\"right\" valign=\"top\" class=\"title\"><span class=\"rank\">7.</span></td>      <td valign=\"top\" class=\"votelinks\"><center><a id='up_19732032' href='vote?id=19732032&amp;how=up&amp;goto=news'><div class='votearrow' title='upvote'></div></a></center></td><td class=\"title\"><a href=\"https://www.nytimes.com/2019/04/23/opinion/google-privacy-china.html\" class=\"storylink\">Tech Needs More Conscientious Objectors</a><span class=\"sitebit comhead\"> (<a href=\"from?site=nytimes.com\"><span class=\"sitestr\">nytimes.com</span></a>)</span></td></tr><tr><td colspan=\"2\"></td><td class=\"subtext\">\n",
      "        <span class=\"score\" id=\"score_19732032\">134 points</span> by <a href=\"user?id=andrewvc\" class=\"hnuser\">andrewvc</a> <span class=\"age\"><a href=\"item?id=19732032\">3 hours ago</a></span> <span id=\"unv_19732032\"></span> | <a href=\"hide?id=19732032&amp;goto=news\">hide</a> | <a href=\"item?id=19732032\">70&nbsp;comments</a>              </td></tr>\n",
      "      <tr class=\"spacer\" style=\"height:5px\"></tr>\n",
      "                <tr class='athing' id='19732654'>\n",
      "      <td align=\"right\" valign=\"top\" class=\"title\"><span class=\"rank\">8.</span></td>      <td valign=\"top\" class=\"votelinks\"><center><a id='up_19732654' href='vote?id=19732654&amp;how=up&amp;goto=news'><div class='votearrow' title='upvote'></div></a></center></td><td class=\"title\"><a href=\"https://www.thurrott.com/windows/windows-10/205446/microsoft-gives-paint-the-11th-hour-reprieve-it-deserves\" class=\"storylink\">Microsoft Gives Paint the 11th Hour Reprieve It Deserves</a><span class=\"sitebit comhead\"> (<a href=\"from?site=thurrott.com\"><span class=\"sitestr\">thurrott.com</span></a>)</span></td></tr><tr><td colspan=\"2\"></td><td class=\"subtext\">\n",
      "        <span class=\"score\" id=\"score_19732654\">51 points</span> by <a href=\"user?id=adrian_mrd\" class=\"hnuser\">adrian_mrd</a> <span class=\"age\"><a href=\"item?id=19732654\">1 hour ago</a></span> <span id=\"unv_19732654\"></span> | <a href=\"hide?id=19732654&amp;goto=news\">hide</a> | <a href=\"item?id=19732654\">44&nbsp;comments</a>              </td></tr>\n",
      "      <tr class=\"spacer\" style=\"height:5px\"></tr>\n",
      "                <tr class='athing' id='19730034'>\n",
      "      <td align=\"right\" valign=\"top\" class=\"title\"><span class=\"rank\">9.</span></td>      <td valign=\"top\" class=\"votelinks\"><center><a id='up_19730034' href='vote?id=19730034&amp;how=up&amp;goto=news'><div class='votearrow' title='upvote'></div></a></center></td><td class=\"title\"><a href=\"https://twitter.com/ylecun/status/1120713059125878784\" class=\"storylink\">Nils Nillson has died</a><span class=\"sitebit comhead\"> (<a href=\"from?site=twitter.com\"><span class=\"sitestr\">twitter.com</span></a>)</span></td></tr><tr><td colspan=\"2\"></td><td class=\"subtext\">\n",
      "        <span class=\"score\" id=\"score_19730034\">64 points</span> by <a href=\"user?id=villgax\" class=\"hnuser\">villgax</a> <span class=\"age\"><a href=\"item?id=19730034\">4 hours ago</a></span> <span id=\"unv_19730034\"></span> | <a href=\"hide?id=19730034&amp;goto=news\">hide</a> | <a href=\"item?id=19730034\">8&nbsp;comments</a>              </td></tr>\n",
      "      <tr class=\"spacer\" style=\"height:5px\"></tr>\n",
      "                <tr class='athing' id='19732823'>\n",
      "      <td align=\"right\" valign=\"top\" class=\"title\"><span class=\"rank\">10.</span></td>      <td valign=\"top\" class=\"votelinks\"><center><a id='up_19732823' href='vote?id=19732823&amp;how=up&amp;goto=news'><div class='votearrow' title='upvote'></div></a></center></td><td class=\"title\"><a href=\"https://thehill.com/policy/technology/440085-facebook-taps-lawyer-who-helped-write-patriot-act\" class=\"storylink\">Facebook taps lawyer who helped write Patriot Act as new general counsel</a><span class=\"sitebit comhead\"> (<a href=\"from?site=thehill.com\"><span class=\"sitestr\">thehill.com</span></a>)</span></td></tr><tr><td colspan=\"2\"></td><td class=\"subtext\">\n",
      "        <span class=\"score\" id=\"score_19732823\">130 points</span> by <a href=\"user?id=zachguo\" class=\"hnuser\">zachguo</a> <span class=\"age\"><a href=\"item?id=19732823\">1 hour ago</a></span> <span id=\"unv_19732823\"></span> | <a href=\"hide?id=19732823&amp;goto=news\">hide</a> | <a href=\"item?id=19732823\">75&nbsp;comments</a>              </td></tr>\n",
      "      <tr class=\"spacer\" style=\"height:5px\"></tr>\n",
      "                <tr class='athing' id='19727832'>\n",
      "      <td align=\"right\" valign=\"top\" class=\"title\"><span class=\"rank\">11.</span></td>      <td valign=\"top\" class=\"votelinks\"><center><a id='up_19727832' href='vote?id=19727832&amp;how=up&amp;goto=news'><div class='votearrow' title='upvote'></div></a></center></td><td class=\"title\"><a href=\"https://v8.dev/blog/spectre\" class=\"storylink\">V8: A Year with Spectre</a><span class=\"sitebit comhead\"> (<a href=\"from?site=v8.dev\"><span class=\"sitestr\">v8.dev</span></a>)</span></td></tr><tr><td colspan=\"2\"></td><td class=\"subtext\">\n",
      "        <span class=\"score\" id=\"score_19727832\">287 points</span> by <a href=\"user?id=tosh\" class=\"hnuser\">tosh</a> <span class=\"age\"><a href=\"item?id=19727832\">10 hours ago</a></span> <span id=\"unv_19727832\"></span> | <a href=\"hide?id=19727832&amp;goto=news\">hide</a> | <a href=\"item?id=19727832\">188&nbsp;comments</a>              </td></tr>\n",
      "      <tr class=\"spacer\" style=\"height:5px\"></tr>\n",
      "                <tr class='athing' id='19729286'>\n",
      "      <td align=\"right\" valign=\"top\" class=\"title\"><span class=\"rank\">12.</span></td>      <td valign=\"top\" class=\"votelinks\"><center><a id='up_19729286' href='vote?id=19729286&amp;how=up&amp;goto=news'><div class='votearrow' title='upvote'></div></a></center></td><td class=\"title\"><a href=\"http://fsl.cs.illinois.edu/index.php/A_Complete_Formal_Semantics_of_x86-64_User-Level_Instruction_Set_Architecture\" class=\"storylink\">A Complete Formal Semantics of x86-64 User-Level Instruction Set Architecture</a><span class=\"sitebit comhead\"> (<a href=\"from?site=illinois.edu\"><span class=\"sitestr\">illinois.edu</span></a>)</span></td></tr><tr><td colspan=\"2\"></td><td class=\"subtext\">\n",
      "        <span class=\"score\" id=\"score_19729286\">23 points</span> by <a href=\"user?id=matt_d\" class=\"hnuser\">matt_d</a> <span class=\"age\"><a href=\"item?id=19729286\">2 hours ago</a></span> <span id=\"unv_19729286\"></span> | <a href=\"hide?id=19729286&amp;goto=news\">hide</a> | <a href=\"item?id=19729286\">2&nbsp;comments</a>              </td></tr>\n",
      "      <tr class=\"spacer\" style=\"height:5px\"></tr>\n",
      "                <tr class='athing' id='19726939'>\n",
      "      <td align=\"right\" valign=\"top\" class=\"title\"><span class=\"rank\">13.</span></td>      <td valign=\"top\" class=\"votelinks\"><center><a id='up_19726939' href='vote?id=19726939&amp;how=up&amp;goto=news'><div class='votearrow' title='upvote'></div></a></center></td><td class=\"title\"><a href=\"https://blog.ircmaxell.com/2019/04/compilers-ffi.html\" class=\"storylink\">A PHP Compiler, a.k.a. the FFI Rabbit Hole</a><span class=\"sitebit comhead\"> (<a href=\"from?site=ircmaxell.com\"><span class=\"sitestr\">ircmaxell.com</span></a>)</span></td></tr><tr><td colspan=\"2\"></td><td class=\"subtext\">\n",
      "        <span class=\"score\" id=\"score_19726939\">70 points</span> by <a href=\"user?id=ingve\" class=\"hnuser\">ingve</a> <span class=\"age\"><a href=\"item?id=19726939\">4 hours ago</a></span> <span id=\"unv_19726939\"></span> | <a href=\"hide?id=19726939&amp;goto=news\">hide</a> | <a href=\"item?id=19726939\">22&nbsp;comments</a>              </td></tr>\n",
      "      <tr class=\"spacer\" style=\"height:5px\"></tr>\n",
      "                <tr class='athing' id='19730309'>\n",
      "      <td align=\"right\" valign=\"top\" class=\"title\"><span class=\"rank\">14.</span></td>      <td valign=\"top\" class=\"votelinks\"><center><a id='up_19730309' href='vote?id=19730309&amp;how=up&amp;goto=news'><div class='votearrow' title='upvote'></div></a></center></td><td class=\"title\"><a href=\"https://joshondesign.com/2018/03/26/linux_graphics_state\" class=\"storylink\">Why don't we have Wayland on Raspberry Pi yet? (2018)</a><span class=\"sitebit comhead\"> (<a href=\"from?site=joshondesign.com\"><span class=\"sitestr\">joshondesign.com</span></a>)</span></td></tr><tr><td colspan=\"2\"></td><td class=\"subtext\">\n",
      "        <span class=\"score\" id=\"score_19730309\">119 points</span> by <a href=\"user?id=bpierre\" class=\"hnuser\">bpierre</a> <span class=\"age\"><a href=\"item?id=19730309\">5 hours ago</a></span> <span id=\"unv_19730309\"></span> | <a href=\"hide?id=19730309&amp;goto=news\">hide</a> | <a href=\"item?id=19730309\">146&nbsp;comments</a>              </td></tr>\n",
      "      <tr class=\"spacer\" style=\"height:5px\"></tr>\n",
      "                <tr class='athing' id='19728544'>\n",
      "      <td align=\"right\" valign=\"top\" class=\"title\"><span class=\"rank\">15.</span></td>      <td valign=\"top\" class=\"votelinks\"><center><a id='up_19728544' href='vote?id=19728544&amp;how=up&amp;goto=news'><div class='votearrow' title='upvote'></div></a></center></td><td class=\"title\"><a href=\"https://sloanreview.mit.edu/article/leisure-is-our-killer-app/\" class=\"storylink\">Leisure Is Our Killer App</a><span class=\"sitebit comhead\"> (<a href=\"from?site=mit.edu\"><span class=\"sitestr\">mit.edu</span></a>)</span></td></tr><tr><td colspan=\"2\"></td><td class=\"subtext\">\n",
      "        <span class=\"score\" id=\"score_19728544\">186 points</span> by <a href=\"user?id=sarapeyton\" class=\"hnuser\">sarapeyton</a> <span class=\"age\"><a href=\"item?id=19728544\">8 hours ago</a></span> <span id=\"unv_19728544\"></span> | <a href=\"hide?id=19728544&amp;goto=news\">hide</a> | <a href=\"item?id=19728544\">82&nbsp;comments</a>              </td></tr>\n",
      "      <tr class=\"spacer\" style=\"height:5px\"></tr>\n",
      "                <tr class='athing' id='19732974'>\n",
      "      <td align=\"right\" valign=\"top\" class=\"title\"><span class=\"rank\">16.</span></td>      <td valign=\"top\" class=\"votelinks\"><center><a id='up_19732974' href='vote?id=19732974&amp;how=up&amp;goto=news'><div class='votearrow' title='upvote'></div></a></center></td><td class=\"title\"><a href=\"https://www.bloomberg.com/news/articles/2019-04-23/musk-s-chipmaking-boasts-clash-with-autonomous-car-reality\" class=\"storylink\">Elon Musk Claims on Tesla Chips Don't Match the Reality</a><span class=\"sitebit comhead\"> (<a href=\"from?site=bloomberg.com\"><span class=\"sitestr\">bloomberg.com</span></a>)</span></td></tr><tr><td colspan=\"2\"></td><td class=\"subtext\">\n",
      "        <span class=\"score\" id=\"score_19732974\">23 points</span> by <a href=\"user?id=chollida1\" class=\"hnuser\">chollida1</a> <span class=\"age\"><a href=\"item?id=19732974\">1 hour ago</a></span> <span id=\"unv_19732974\"></span> | <a href=\"hide?id=19732974&amp;goto=news\">hide</a> | <a href=\"item?id=19732974\">5&nbsp;comments</a>              </td></tr>\n",
      "      <tr class=\"spacer\" style=\"height:5px\"></tr>\n",
      "                <tr class='athing' id='19729998'>\n",
      "      <td align=\"right\" valign=\"top\" class=\"title\"><span class=\"rank\">17.</span></td>      <td valign=\"top\" class=\"votelinks\"><center><a id='up_19729998' href='vote?id=19729998&amp;how=up&amp;goto=news'><div class='votearrow' title='upvote'></div></a></center></td><td class=\"title\"><a href=\"https://www.npr.org/2019/04/23/716248823/court-says-using-chalk-on-tires-for-parking-enforcement-violates-constitution\" class=\"storylink\">Court Says Using Chalk on Tires for Parking Enforcement Violates Constitution</a><span class=\"sitebit comhead\"> (<a href=\"from?site=npr.org\"><span class=\"sitestr\">npr.org</span></a>)</span></td></tr><tr><td colspan=\"2\"></td><td class=\"subtext\">\n",
      "        <span class=\"score\" id=\"score_19729998\">242 points</span> by <a href=\"user?id=codezero\" class=\"hnuser\">codezero</a> <span class=\"age\"><a href=\"item?id=19729998\">6 hours ago</a></span> <span id=\"unv_19729998\"></span> | <a href=\"hide?id=19729998&amp;goto=news\">hide</a> | <a href=\"item?id=19729998\">346&nbsp;comments</a>              </td></tr>\n",
      "      <tr class=\"spacer\" style=\"height:5px\"></tr>\n",
      "                <tr class='athing' id='19730919'>\n",
      "      <td align=\"right\" valign=\"top\" class=\"title\"><span class=\"rank\">18.</span></td>      <td valign=\"top\" class=\"votelinks\"><center><a id='up_19730919' href='vote?id=19730919&amp;how=up&amp;goto=news'><div class='votearrow' title='upvote'></div></a></center></td><td class=\"title\"><a href=\"https://www.nature.com/articles/d41586-019-01300-9\" class=\"storylink\">Crispr gene-editing creates wave of exotic model organisms</a><span class=\"sitebit comhead\"> (<a href=\"from?site=nature.com\"><span class=\"sitestr\">nature.com</span></a>)</span></td></tr><tr><td colspan=\"2\"></td><td class=\"subtext\">\n",
      "        <span class=\"score\" id=\"score_19730919\">41 points</span> by <a href=\"user?id=headalgorithm\" class=\"hnuser\">headalgorithm</a> <span class=\"age\"><a href=\"item?id=19730919\">4 hours ago</a></span> <span id=\"unv_19730919\"></span> | <a href=\"hide?id=19730919&amp;goto=news\">hide</a> | <a href=\"item?id=19730919\">discuss</a>              </td></tr>\n",
      "      <tr class=\"spacer\" style=\"height:5px\"></tr>\n",
      "                <tr class='athing' id='19733182'>\n",
      "      <td align=\"right\" valign=\"top\" class=\"title\"><span class=\"rank\">19.</span></td>      <td valign=\"top\" class=\"votelinks\"><center><a id='up_19733182' href='vote?id=19733182&amp;how=up&amp;goto=news'><div class='votearrow' title='upvote'></div></a></center></td><td class=\"title\"><a href=\"http://inthesetimes.com/article/21850/is-amazon-using-predatory-pricing-in-violation-of-antitrust-laws-monopoly\" class=\"storylink\" rel=\"nofollow\">Is Amazon Violating U.S. Antitrust Laws? This Law Student Has Evidence</a><span class=\"sitebit comhead\"> (<a href=\"from?site=inthesetimes.com\"><span class=\"sitestr\">inthesetimes.com</span></a>)</span></td></tr><tr><td colspan=\"2\"></td><td class=\"subtext\">\n",
      "        <span class=\"score\" id=\"score_19733182\">4 points</span> by <a href=\"user?id=walterbell\" class=\"hnuser\">walterbell</a> <span class=\"age\"><a href=\"item?id=19733182\">53 minutes ago</a></span> <span id=\"unv_19733182\"></span> | <a href=\"hide?id=19733182&amp;goto=news\">hide</a> | <a href=\"item?id=19733182\">discuss</a>              </td></tr>\n",
      "      <tr class=\"spacer\" style=\"height:5px\"></tr>\n",
      "                <tr class='athing' id='19729854'>\n",
      "      <td align=\"right\" valign=\"top\" class=\"title\"><span class=\"rank\">20.</span></td>      <td valign=\"top\" class=\"votelinks\"><center><a id='up_19729854' href='vote?id=19729854&amp;how=up&amp;goto=news'><div class='votearrow' title='upvote'></div></a></center></td><td class=\"title\"><a href=\"https://www.graphiti.dev/guides\" class=\"storylink\">Graphiti: Stylish Graph APIs</a><span class=\"sitebit comhead\"> (<a href=\"from?site=graphiti.dev\"><span class=\"sitestr\">graphiti.dev</span></a>)</span></td></tr><tr><td colspan=\"2\"></td><td class=\"subtext\">\n",
      "        <span class=\"score\" id=\"score_19729854\">80 points</span> by <a href=\"user?id=richmolj\" class=\"hnuser\">richmolj</a> <span class=\"age\"><a href=\"item?id=19729854\">6 hours ago</a></span> <span id=\"unv_19729854\"></span> | <a href=\"hide?id=19729854&amp;goto=news\">hide</a> | <a href=\"item?id=19729854\">30&nbsp;comments</a>              </td></tr>\n",
      "      <tr class=\"spacer\" style=\"height:5px\"></tr>\n",
      "                <tr class='athing' id='19727775'>\n",
      "      <td align=\"right\" valign=\"top\" class=\"title\"><span class=\"rank\">21.</span></td>      <td valign=\"top\" class=\"votelinks\"><center><a id='up_19727775' href='vote?id=19727775&amp;how=up&amp;goto=news'><div class='votearrow' title='upvote'></div></a></center></td><td class=\"title\"><a href=\"https://www.cam.ac.uk/research/news/green-material-for-refrigeration-identified\" class=\"storylink\">Green Material for Refrigeration Identified</a><span class=\"sitebit comhead\"> (<a href=\"from?site=cam.ac.uk\"><span class=\"sitestr\">cam.ac.uk</span></a>)</span></td></tr><tr><td colspan=\"2\"></td><td class=\"subtext\">\n",
      "        <span class=\"score\" id=\"score_19727775\">154 points</span> by <a href=\"user?id=vezycash\" class=\"hnuser\">vezycash</a> <span class=\"age\"><a href=\"item?id=19727775\">10 hours ago</a></span> <span id=\"unv_19727775\"></span> | <a href=\"hide?id=19727775&amp;goto=news\">hide</a> | <a href=\"item?id=19727775\">64&nbsp;comments</a>              </td></tr>\n",
      "      <tr class=\"spacer\" style=\"height:5px\"></tr>\n",
      "                <tr class='athing' id='19724317'>\n",
      "      <td align=\"right\" valign=\"top\" class=\"title\"><span class=\"rank\">22.</span></td>      <td valign=\"top\" class=\"votelinks\"><center><a id='up_19724317' href='vote?id=19724317&amp;how=up&amp;goto=news'><div class='votearrow' title='upvote'></div></a></center></td><td class=\"title\"><a href=\"https://www.nationalgeographic.com/people-and-culture/food/the-plate/2014/10/23/plain-vanilla/\" class=\"storylink\" rel=\"nofollow\">The History of Vanilla</a><span class=\"sitebit comhead\"> (<a href=\"from?site=nationalgeographic.com\"><span class=\"sitestr\">nationalgeographic.com</span></a>)</span></td></tr><tr><td colspan=\"2\"></td><td class=\"subtext\">\n",
      "        <span class=\"score\" id=\"score_19724317\">5 points</span> by <a href=\"user?id=vinnyglennon\" class=\"hnuser\">vinnyglennon</a> <span class=\"age\"><a href=\"item?id=19724317\">1 hour ago</a></span> <span id=\"unv_19724317\"></span> | <a href=\"hide?id=19724317&amp;goto=news\">hide</a> | <a href=\"item?id=19724317\">discuss</a>              </td></tr>\n",
      "      <tr class=\"spacer\" style=\"height:5px\"></tr>\n",
      "                <tr class='athing' id='19728112'>\n",
      "      <td align=\"right\" valign=\"top\" class=\"title\"><span class=\"rank\">23.</span></td>      <td valign=\"top\" class=\"votelinks\"><center><a id='up_19728112' href='vote?id=19728112&amp;how=up&amp;goto=news'><div class='votearrow' title='upvote'></div></a></center></td><td class=\"title\"><a href=\"https://docs.rs/inline-python/\" class=\"storylink\">Write Python inline in your Rust code</a><span class=\"sitebit comhead\"> (<a href=\"from?site=docs.rs\"><span class=\"sitestr\">docs.rs</span></a>)</span></td></tr><tr><td colspan=\"2\"></td><td class=\"subtext\">\n",
      "        <span class=\"score\" id=\"score_19728112\">127 points</span> by <a href=\"user?id=Aissen\" class=\"hnuser\">Aissen</a> <span class=\"age\"><a href=\"item?id=19728112\">9 hours ago</a></span> <span id=\"unv_19728112\"></span> | <a href=\"hide?id=19728112&amp;goto=news\">hide</a> | <a href=\"item?id=19728112\">30&nbsp;comments</a>              </td></tr>\n",
      "      <tr class=\"spacer\" style=\"height:5px\"></tr>\n",
      "                <tr class='athing' id='19730098'>\n",
      "      <td align=\"right\" valign=\"top\" class=\"title\"><span class=\"rank\">24.</span></td>      <td valign=\"top\" class=\"votelinks\"><center><a id='up_19730098' href='vote?id=19730098&amp;how=up&amp;goto=news'><div class='votearrow' title='upvote'></div></a></center></td><td class=\"title\"><a href=\"https://openai.com/blog/sparse-transformer/\" class=\"storylink\">Generative Modeling with Sparse Transformers</a><span class=\"sitebit comhead\"> (<a href=\"from?site=openai.com\"><span class=\"sitestr\">openai.com</span></a>)</span></td></tr><tr><td colspan=\"2\"></td><td class=\"subtext\">\n",
      "        <span class=\"score\" id=\"score_19730098\">53 points</span> by <a href=\"user?id=stablemap\" class=\"hnuser\">stablemap</a> <span class=\"age\"><a href=\"item?id=19730098\">6 hours ago</a></span> <span id=\"unv_19730098\"></span> | <a href=\"hide?id=19730098&amp;goto=news\">hide</a> | <a href=\"item?id=19730098\">8&nbsp;comments</a>              </td></tr>\n",
      "      <tr class=\"spacer\" style=\"height:5px\"></tr>\n",
      "                <tr class='athing' id='19732775'>\n",
      "      <td align=\"right\" valign=\"top\" class=\"title\"><span class=\"rank\">25.</span></td>      <td valign=\"top\" class=\"votelinks\"><center><a id='up_19732775' href='vote?id=19732775&amp;how=up&amp;goto=news'><div class='votearrow' title='upvote'></div></a></center></td><td class=\"title\"><a href=\"https://www.nationalgeographic.com/magazine/2018/03/bird-migration-interactive-maps/\" class=\"storylink\" rel=\"nofollow\">How Birds Migrate Throughout the Western Hemisphere (2018)</a><span class=\"sitebit comhead\"> (<a href=\"from?site=nationalgeographic.com\"><span class=\"sitestr\">nationalgeographic.com</span></a>)</span></td></tr><tr><td colspan=\"2\"></td><td class=\"subtext\">\n",
      "        <span class=\"score\" id=\"score_19732775\">7 points</span> by <a href=\"user?id=adrian_mrd\" class=\"hnuser\">adrian_mrd</a> <span class=\"age\"><a href=\"item?id=19732775\">1 hour ago</a></span> <span id=\"unv_19732775\"></span> | <a href=\"hide?id=19732775&amp;goto=news\">hide</a> | <a href=\"item?id=19732775\">discuss</a>              </td></tr>\n",
      "      <tr class=\"spacer\" style=\"height:5px\"></tr>\n",
      "                <tr class='athing' id='19727085'>\n",
      "      <td align=\"right\" valign=\"top\" class=\"title\"><span class=\"rank\">26.</span></td>      <td valign=\"top\" class=\"votelinks\"><center><a id='up_19727085' href='vote?id=19727085&amp;how=up&amp;goto=news'><div class='votearrow' title='upvote'></div></a></center></td><td class=\"title\"><a href=\"http://tkipf.github.io/graph-convolutional-networks/\" class=\"storylink\">Graph Convolutional Networks (2016)</a><span class=\"sitebit comhead\"> (<a href=\"from?site=tkipf.github.io\"><span class=\"sitestr\">tkipf.github.io</span></a>)</span></td></tr><tr><td colspan=\"2\"></td><td class=\"subtext\">\n",
      "        <span class=\"score\" id=\"score_19727085\">155 points</span> by <a href=\"user?id=azthecx\" class=\"hnuser\">azthecx</a> <span class=\"age\"><a href=\"item?id=19727085\">12 hours ago</a></span> <span id=\"unv_19727085\"></span> | <a href=\"hide?id=19727085&amp;goto=news\">hide</a> | <a href=\"item?id=19727085\">12&nbsp;comments</a>              </td></tr>\n",
      "      <tr class=\"spacer\" style=\"height:5px\"></tr>\n",
      "                <tr class='athing' id='19723858'>\n",
      "      <td align=\"right\" valign=\"top\" class=\"title\"><span class=\"rank\">27.</span></td>      <td valign=\"top\" class=\"votelinks\"><center><a id='up_19723858' href='vote?id=19723858&amp;how=up&amp;goto=news'><div class='votearrow' title='upvote'></div></a></center></td><td class=\"title\"><a href=\"https://knpr.org/desert-companion/2018-11/murdering-mayor-paradise\" class=\"storylink\">Murdering the Mayor of Paradise</a><span class=\"sitebit comhead\"> (<a href=\"from?site=knpr.org\"><span class=\"sitestr\">knpr.org</span></a>)</span></td></tr><tr><td colspan=\"2\"></td><td class=\"subtext\">\n",
      "        <span class=\"score\" id=\"score_19723858\">13 points</span> by <a href=\"user?id=indigodaddy\" class=\"hnuser\">indigodaddy</a> <span class=\"age\"><a href=\"item?id=19723858\">3 hours ago</a></span> <span id=\"unv_19723858\"></span> | <a href=\"hide?id=19723858&amp;goto=news\">hide</a> | <a href=\"item?id=19723858\">3&nbsp;comments</a>              </td></tr>\n",
      "      <tr class=\"spacer\" style=\"height:5px\"></tr>\n",
      "                <tr class='athing' id='19727218'>\n",
      "      <td align=\"right\" valign=\"top\" class=\"title\"><span class=\"rank\">28.</span></td>      <td valign=\"top\" class=\"votelinks\"><center><a id='up_19727218' href='vote?id=19727218&amp;how=up&amp;goto=news'><div class='votearrow' title='upvote'></div></a></center></td><td class=\"title\"><a href=\"https://vacationtracker.io/blog/big-bad-serverless-vendor-lock-in/\" class=\"storylink\">Fighting vendor lock-in and designing testable serverless apps</a><span class=\"sitebit comhead\"> (<a href=\"from?site=vacationtracker.io\"><span class=\"sitestr\">vacationtracker.io</span></a>)</span></td></tr><tr><td colspan=\"2\"></td><td class=\"subtext\">\n",
      "        <span class=\"score\" id=\"score_19727218\">132 points</span> by <a href=\"user?id=slobodan_\" class=\"hnuser\">slobodan_</a> <span class=\"age\"><a href=\"item?id=19727218\">11 hours ago</a></span> <span id=\"unv_19727218\"></span> | <a href=\"hide?id=19727218&amp;goto=news\">hide</a> | <a href=\"item?id=19727218\">100&nbsp;comments</a>              </td></tr>\n",
      "      <tr class=\"spacer\" style=\"height:5px\"></tr>\n",
      "                <tr class='athing' id='19718287'>\n",
      "      <td align=\"right\" valign=\"top\" class=\"title\"><span class=\"rank\">29.</span></td>      <td valign=\"top\" class=\"votelinks\"><center><a id='up_19718287' href='vote?id=19718287&amp;how=up&amp;goto=news'><div class='votearrow' title='upvote'></div></a></center></td><td class=\"title\"><a href=\"https://gizmodo.com/why-mathematicians-are-hoarding-this-special-type-of-ja-1711008881\" class=\"storylink\">Mathematicians are hoarding a type of Japanese chalk (2015)</a><span class=\"sitebit comhead\"> (<a href=\"from?site=gizmodo.com\"><span class=\"sitestr\">gizmodo.com</span></a>)</span></td></tr><tr><td colspan=\"2\"></td><td class=\"subtext\">\n",
      "        <span class=\"score\" id=\"score_19718287\">149 points</span> by <a href=\"user?id=florian_s\" class=\"hnuser\">florian_s</a> <span class=\"age\"><a href=\"item?id=19718287\">12 hours ago</a></span> <span id=\"unv_19718287\"></span> | <a href=\"hide?id=19718287&amp;goto=news\">hide</a> | <a href=\"item?id=19718287\">106&nbsp;comments</a>              </td></tr>\n",
      "      <tr class=\"spacer\" style=\"height:5px\"></tr>\n",
      "                <tr class='athing' id='19727621'>\n",
      "      <td align=\"right\" valign=\"top\" class=\"title\"><span class=\"rank\">30.</span></td>      <td valign=\"top\" class=\"votelinks\"><center><a id='up_19727621' href='vote?id=19727621&amp;how=up&amp;goto=news'><div class='votearrow' title='upvote'></div></a></center></td><td class=\"title\"><a href=\"https://github.com/litxio/ptghci\" class=\"storylink\">High-Powered REPL for Haskell, Inspired by IPython</a><span class=\"sitebit comhead\"> (<a href=\"from?site=github.com\"><span class=\"sitestr\">github.com</span></a>)</span></td></tr><tr><td colspan=\"2\"></td><td class=\"subtext\">\n",
      "        <span class=\"score\" id=\"score_19727621\">82 points</span> by <a href=\"user?id=Terretta\" class=\"hnuser\">Terretta</a> <span class=\"age\"><a href=\"item?id=19727621\">10 hours ago</a></span> <span id=\"unv_19727621\"></span> | <a href=\"hide?id=19727621&amp;goto=news\">hide</a> | <a href=\"item?id=19727621\">9&nbsp;comments</a>              </td></tr>\n",
      "      <tr class=\"spacer\" style=\"height:5px\"></tr>\n",
      "            <tr class=\"morespace\" style=\"height:10px\"></tr><tr><td colspan=\"2\"></td><td class=\"title\"><a href=\"news?p=2\" class=\"morelink\" rel=\"next\">More</a></td></tr>\n",
      "  </table>\n",
      "</td></tr>\n",
      "<tr><td><img src=\"s.gif\" height=\"10\" width=\"0\"><table width=\"100%\" cellspacing=\"0\" cellpadding=\"1\"><tr><td bgcolor=\"#ff6600\"></td></tr></table><br><center><span class=\"yclinks\"><a href=\"newsguidelines.html\">Guidelines</a>\n",
      "        | <a href=\"newsfaq.html\">FAQ</a>\n",
      "        | <a href=\"mailto:hn@ycombinator.com\">Support</a>\n",
      "        | <a href=\"https://github.com/HackerNews/API\">API</a>\n",
      "        | <a href=\"security.html\">Security</a>\n",
      "        | <a href=\"lists\">Lists</a>\n",
      "        | <a href=\"bookmarklet.html\" rel=\"nofollow\">Bookmarklet</a>\n",
      "        | <a href=\"http://www.ycombinator.com/legal/\">Legal</a>\n",
      "        | <a href=\"http://www.ycombinator.com/apply/\">Apply to YC</a>\n",
      "        | <a href=\"mailto:hn@ycombinator.com\">Contact</a></span><br><br><form method=\"get\" action=\"//hn.algolia.com/\">Search:\n",
      "          <input type=\"text\" name=\"q\" value=\"\" size=\"17\" autocorrect=\"off\" spellcheck=\"false\" autocapitalize=\"off\" autocomplete=\"false\"></form>\n",
      "            </center></td></tr>\n",
      "      </table></center></body><script type='text/javascript' src='hn.js?cFbyIDUhzesU5MLYp5wA'></script>\n",
      "  </html>\n",
      "\n"
     ]
    }
   ],
   "source": [
    "import requests\n",
    "\n",
    "# Fetch a web page\n",
    "r = requests.get(\"https://news.ycombinator.com\")\n",
    "print(r.text)"
   ]
  },
  {
   "cell_type": "code",
   "execution_count": 5,
   "metadata": {},
   "outputs": [
    {
     "name": "stdout",
     "output_type": "stream",
     "text": [
      "\n",
      "            \n",
      "          \n",
      "        Hacker News\n",
      "        \n",
      "                  Hacker News\n",
      "              new | past | comments | ask | show | jobs | submit            \n",
      "                              login\n",
      "                          \n",
      "              \n",
      "\n",
      "              \n",
      "      1.      I Sell Onions on the Internet (deepsouthventures.com)\n",
      "        1744 points by eightturn 9 hours ago  | hide | 278&nbsp;comments              \n",
      "      \n",
      "                \n",
      "      2.      Show HN: WAPM – Package Manager for WebAssembly (wapm.io)\n",
      "        54 points by syrusakbary 1 hour ago  | hide | 19&nbsp;comments              \n",
      "      \n",
      "                \n",
      "      3.      Cadence: Uber's Workflow Orchestration Engine (github.com)\n",
      "        63 points by vruiz 2 hours ago  | hide | 21&nbsp;comments              \n",
      "      \n",
      "                \n",
      "      4.      How the Kleiner Perkins Empire Fell (fortune.com)\n",
      "        86 points by walterbell 2 hours ago  | hide | 9&nbsp;comments              \n",
      "      \n",
      "                \n",
      "      5.      Here’s Why We Think Galaxy Folds Are Failing (ifixit.org)\n",
      "        42 points by lambada 1 hour ago  | hide | 29&nbsp;comments              \n",
      "      \n",
      "                \n",
      "      6.      Relearning Matrices as Linear Functions (dhruvonmath.com)\n",
      "        132 points by dhruvp 5 hours ago  | hide | 53&nbsp;comments              \n",
      "      \n",
      "                \n",
      "      7.      Tech Needs More Conscientious Objectors (nytimes.com)\n",
      "        134 points by andrewvc 3 hours ago  | hide | 70&nbsp;comments              \n",
      "      \n",
      "                \n",
      "      8.      Microsoft Gives Paint the 11th Hour Reprieve It Deserves (thurrott.com)\n",
      "        51 points by adrian_mrd 1 hour ago  | hide | 44&nbsp;comments              \n",
      "      \n",
      "                \n",
      "      9.      Nils Nillson has died (twitter.com)\n",
      "        64 points by villgax 4 hours ago  | hide | 8&nbsp;comments              \n",
      "      \n",
      "                \n",
      "      10.      Facebook taps lawyer who helped write Patriot Act as new general counsel (thehill.com)\n",
      "        130 points by zachguo 1 hour ago  | hide | 75&nbsp;comments              \n",
      "      \n",
      "                \n",
      "      11.      V8: A Year with Spectre (v8.dev)\n",
      "        287 points by tosh 10 hours ago  | hide | 188&nbsp;comments              \n",
      "      \n",
      "                \n",
      "      12.      A Complete Formal Semantics of x86-64 User-Level Instruction Set Architecture (illinois.edu)\n",
      "        23 points by matt_d 2 hours ago  | hide | 2&nbsp;comments              \n",
      "      \n",
      "                \n",
      "      13.      A PHP Compiler, a.k.a. the FFI Rabbit Hole (ircmaxell.com)\n",
      "        70 points by ingve 4 hours ago  | hide | 22&nbsp;comments              \n",
      "      \n",
      "                \n",
      "      14.      Why don't we have Wayland on Raspberry Pi yet? (2018) (joshondesign.com)\n",
      "        119 points by bpierre 5 hours ago  | hide | 146&nbsp;comments              \n",
      "      \n",
      "                \n",
      "      15.      Leisure Is Our Killer App (mit.edu)\n",
      "        186 points by sarapeyton 8 hours ago  | hide | 82&nbsp;comments              \n",
      "      \n",
      "                \n",
      "      16.      Elon Musk Claims on Tesla Chips Don't Match the Reality (bloomberg.com)\n",
      "        23 points by chollida1 1 hour ago  | hide | 5&nbsp;comments              \n",
      "      \n",
      "                \n",
      "      17.      Court Says Using Chalk on Tires for Parking Enforcement Violates Constitution (npr.org)\n",
      "        242 points by codezero 6 hours ago  | hide | 346&nbsp;comments              \n",
      "      \n",
      "                \n",
      "      18.      Crispr gene-editing creates wave of exotic model organisms (nature.com)\n",
      "        41 points by headalgorithm 4 hours ago  | hide | discuss              \n",
      "      \n",
      "                \n",
      "      19.      Is Amazon Violating U.S. Antitrust Laws? This Law Student Has Evidence (inthesetimes.com)\n",
      "        4 points by walterbell 53 minutes ago  | hide | discuss              \n",
      "      \n",
      "                \n",
      "      20.      Graphiti: Stylish Graph APIs (graphiti.dev)\n",
      "        80 points by richmolj 6 hours ago  | hide | 30&nbsp;comments              \n",
      "      \n",
      "                \n",
      "      21.      Green Material for Refrigeration Identified (cam.ac.uk)\n",
      "        154 points by vezycash 10 hours ago  | hide | 64&nbsp;comments              \n",
      "      \n",
      "                \n",
      "      22.      The History of Vanilla (nationalgeographic.com)\n",
      "        5 points by vinnyglennon 1 hour ago  | hide | discuss              \n",
      "      \n",
      "                \n",
      "      23.      Write Python inline in your Rust code (docs.rs)\n",
      "        127 points by Aissen 9 hours ago  | hide | 30&nbsp;comments              \n",
      "      \n",
      "                \n",
      "      24.      Generative Modeling with Sparse Transformers (openai.com)\n",
      "        53 points by stablemap 6 hours ago  | hide | 8&nbsp;comments              \n",
      "      \n",
      "                \n",
      "      25.      How Birds Migrate Throughout the Western Hemisphere (2018) (nationalgeographic.com)\n",
      "        7 points by adrian_mrd 1 hour ago  | hide | discuss              \n",
      "      \n",
      "                \n",
      "      26.      Graph Convolutional Networks (2016) (tkipf.github.io)\n",
      "        155 points by azthecx 12 hours ago  | hide | 12&nbsp;comments              \n",
      "      \n",
      "                \n",
      "      27.      Murdering the Mayor of Paradise (knpr.org)\n",
      "        13 points by indigodaddy 3 hours ago  | hide | 3&nbsp;comments              \n",
      "      \n",
      "                \n",
      "      28.      Fighting vendor lock-in and designing testable serverless apps (vacationtracker.io)\n",
      "        132 points by slobodan_ 11 hours ago  | hide | 100&nbsp;comments              \n",
      "      \n",
      "                \n",
      "      29.      Mathematicians are hoarding a type of Japanese chalk (2015) (gizmodo.com)\n",
      "        149 points by florian_s 12 hours ago  | hide | 106&nbsp;comments              \n",
      "      \n",
      "                \n",
      "      30.      High-Powered REPL for Haskell, Inspired by IPython (github.com)\n",
      "        82 points by Terretta 10 hours ago  | hide | 9&nbsp;comments              \n",
      "      \n",
      "            More\n",
      "  \n",
      "\n",
      "Guidelines\n",
      "        | FAQ\n",
      "        | Support\n",
      "        | API\n",
      "        | Security\n",
      "        | Lists\n",
      "        | Bookmarklet\n",
      "        | Legal\n",
      "        | Apply to YC\n",
      "        | ContactSearch:\n",
      "          \n",
      "            \n",
      "      \n",
      "  \n",
      "\n"
     ]
    }
   ],
   "source": [
    "import re\n",
    "\n",
    "# Remove HTML tags using RegEx\n",
    "pattern = re.compile(r'<.*?>')  # tags look like <...>\n",
    "print(pattern.sub('', r.text))  # replace them with blank"
   ]
  },
  {
   "cell_type": "code",
   "execution_count": 6,
   "metadata": {},
   "outputs": [
    {
     "name": "stdout",
     "output_type": "stream",
     "text": [
      "\n",
      "            \n",
      "          \n",
      "        Hacker News\n",
      "        \n",
      "                  Hacker News\n",
      "              new | past | comments | ask | show | jobs | submit            \n",
      "                              login\n",
      "                          \n",
      "              \n",
      "\n",
      "              \n",
      "      1.      I Sell Onions on the Internet (deepsouthventures.com)\n",
      "        1744 points by eightturn 9 hours ago  | hide | 278 comments              \n",
      "      \n",
      "                \n",
      "      2.      Show HN: WAPM – Package Manager for WebAssembly (wapm.io)\n",
      "        54 points by syrusakbary 1 hour ago  | hide | 19 comments              \n",
      "      \n",
      "                \n",
      "      3.      Cadence: Uber's Workflow Orchestration Engine (github.com)\n",
      "        63 points by vruiz 2 hours ago  | hide | 21 comments              \n",
      "      \n",
      "                \n",
      "      4.      How the Kleiner Perkins Empire Fell (fortune.com)\n",
      "        86 points by walterbell 2 hours ago  | hide | 9 comments              \n",
      "      \n",
      "                \n",
      "      5.      Here’s Why We Think Galaxy Folds Are Failing (ifixit.org)\n",
      "        42 points by lambada 1 hour ago  | hide | 29 comments              \n",
      "      \n",
      "                \n",
      "      6.      Relearning Matrices as Linear Functions (dhruvonmath.com)\n",
      "        132 points by dhruvp 5 hours ago  | hide | 53 comments              \n",
      "      \n",
      "                \n",
      "      7.      Tech Needs More Conscientious Objectors (nytimes.com)\n",
      "        134 points by andrewvc 3 hours ago  | hide | 70 comments              \n",
      "      \n",
      "                \n",
      "      8.      Microsoft Gives Paint the 11th Hour Reprieve It Deserves (thurrott.com)\n",
      "        51 points by adrian_mrd 1 hour ago  | hide | 44 comments              \n",
      "      \n",
      "                \n",
      "      9.      Nils Nillson has died (twitter.com)\n",
      "        64 points by villgax 4 hours ago  | hide | 8 comments              \n",
      "      \n",
      "                \n",
      "      10.      Facebook taps lawyer who helped write Patriot Act as new general counsel (thehill.com)\n",
      "        130 points by zachguo 1 hour ago  | hide | 75 comments              \n",
      "      \n",
      "                \n",
      "      11.      V8: A Year with Spectre (v8.dev)\n",
      "        287 points by tosh 10 hours ago  | hide | 188 comments              \n",
      "      \n",
      "                \n",
      "      12.      A Complete Formal Semantics of x86-64 User-Level Instruction Set Architecture (illinois.edu)\n",
      "        23 points by matt_d 2 hours ago  | hide | 2 comments              \n",
      "      \n",
      "                \n",
      "      13.      A PHP Compiler, a.k.a. the FFI Rabbit Hole (ircmaxell.com)\n",
      "        70 points by ingve 4 hours ago  | hide | 22 comments              \n",
      "      \n",
      "                \n",
      "      14.      Why don't we have Wayland on Raspberry Pi yet? (2018) (joshondesign.com)\n",
      "        119 points by bpierre 5 hours ago  | hide | 146 comments              \n",
      "      \n",
      "                \n",
      "      15.      Leisure Is Our Killer App (mit.edu)\n",
      "        186 points by sarapeyton 8 hours ago  | hide | 82 comments              \n",
      "      \n",
      "                \n",
      "      16.      Elon Musk Claims on Tesla Chips Don't Match the Reality (bloomberg.com)\n",
      "        23 points by chollida1 1 hour ago  | hide | 5 comments              \n",
      "      \n",
      "                \n",
      "      17.      Court Says Using Chalk on Tires for Parking Enforcement Violates Constitution (npr.org)\n",
      "        242 points by codezero 6 hours ago  | hide | 346 comments              \n",
      "      \n",
      "                \n",
      "      18.      Crispr gene-editing creates wave of exotic model organisms (nature.com)\n",
      "        41 points by headalgorithm 4 hours ago  | hide | discuss              \n",
      "      \n",
      "                \n",
      "      19.      Is Amazon Violating U.S. Antitrust Laws? This Law Student Has Evidence (inthesetimes.com)\n",
      "        4 points by walterbell 53 minutes ago  | hide | discuss              \n",
      "      \n",
      "                \n",
      "      20.      Graphiti: Stylish Graph APIs (graphiti.dev)\n",
      "        80 points by richmolj 6 hours ago  | hide | 30 comments              \n",
      "      \n",
      "                \n",
      "      21.      Green Material for Refrigeration Identified (cam.ac.uk)\n",
      "        154 points by vezycash 10 hours ago  | hide | 64 comments              \n",
      "      \n",
      "                \n",
      "      22.      The History of Vanilla (nationalgeographic.com)\n",
      "        5 points by vinnyglennon 1 hour ago  | hide | discuss              \n",
      "      \n",
      "                \n",
      "      23.      Write Python inline in your Rust code (docs.rs)\n",
      "        127 points by Aissen 9 hours ago  | hide | 30 comments              \n",
      "      \n",
      "                \n",
      "      24.      Generative Modeling with Sparse Transformers (openai.com)\n",
      "        53 points by stablemap 6 hours ago  | hide | 8 comments              \n",
      "      \n",
      "                \n",
      "      25.      How Birds Migrate Throughout the Western Hemisphere (2018) (nationalgeographic.com)\n",
      "        7 points by adrian_mrd 1 hour ago  | hide | discuss              \n",
      "      \n",
      "                \n",
      "      26.      Graph Convolutional Networks (2016) (tkipf.github.io)\n",
      "        155 points by azthecx 12 hours ago  | hide | 12 comments              \n",
      "      \n",
      "                \n",
      "      27.      Murdering the Mayor of Paradise (knpr.org)\n",
      "        13 points by indigodaddy 3 hours ago  | hide | 3 comments              \n",
      "      \n",
      "                \n",
      "      28.      Fighting vendor lock-in and designing testable serverless apps (vacationtracker.io)\n",
      "        132 points by slobodan_ 11 hours ago  | hide | 100 comments              \n",
      "      \n",
      "                \n",
      "      29.      Mathematicians are hoarding a type of Japanese chalk (2015) (gizmodo.com)\n",
      "        149 points by florian_s 12 hours ago  | hide | 106 comments              \n",
      "      \n",
      "                \n",
      "      30.      High-Powered REPL for Haskell, Inspired by IPython (github.com)\n",
      "        82 points by Terretta 10 hours ago  | hide | 9 comments              \n",
      "      \n",
      "            More\n",
      "  \n",
      "\n",
      "Guidelines\n",
      "        | FAQ\n",
      "        | Support\n",
      "        | API\n",
      "        | Security\n",
      "        | Lists\n",
      "        | Bookmarklet\n",
      "        | Legal\n",
      "        | Apply to YC\n",
      "        | ContactSearch:\n",
      "          \n",
      "            \n",
      "      \n",
      "  \n",
      "\n"
     ]
    }
   ],
   "source": [
    "from bs4 import BeautifulSoup\n",
    "\n",
    "# Remove HTML tags using Beautiful Soup library\n",
    "soup = BeautifulSoup(r.text, \"html5lib\")\n",
    "print(soup.get_text())"
   ]
  },
  {
   "cell_type": "code",
   "execution_count": 7,
   "metadata": {
    "scrolled": true
   },
   "outputs": [
    {
     "data": {
      "text/plain": [
       "<tr class=\"athing\" id=\"19728132\">\n",
       "      <td align=\"right\" class=\"title\" valign=\"top\"><span class=\"rank\">1.</span></td>      <td class=\"votelinks\" valign=\"top\"><center><a href=\"vote?id=19728132&amp;how=up&amp;goto=news\" id=\"up_19728132\"><div class=\"votearrow\" title=\"upvote\"></div></a></center></td><td class=\"title\"><a class=\"storylink\" href=\"https://www.deepsouthventures.com/i-sell-onions-on-the-internet/\">I Sell Onions on the Internet</a><span class=\"sitebit comhead\"> (<a href=\"from?site=deepsouthventures.com\"><span class=\"sitestr\">deepsouthventures.com</span></a>)</span></td></tr>"
      ]
     },
     "execution_count": 7,
     "metadata": {},
     "output_type": "execute_result"
    }
   ],
   "source": [
    "# Find all articles\n",
    "summaries = soup.find_all(\"tr\", class_=\"athing\")\n",
    "summaries[0]"
   ]
  },
  {
   "cell_type": "code",
   "execution_count": 8,
   "metadata": {},
   "outputs": [
    {
     "data": {
      "text/plain": [
       "'I Sell Onions on the Internet'"
      ]
     },
     "execution_count": 8,
     "metadata": {},
     "output_type": "execute_result"
    }
   ],
   "source": [
    "# Extract title\n",
    "summaries[0].find(\"a\", class_=\"storylink\").get_text().strip()"
   ]
  },
  {
   "cell_type": "code",
   "execution_count": 9,
   "metadata": {},
   "outputs": [
    {
     "name": "stdout",
     "output_type": "stream",
     "text": [
      "30 Article summaries found. Sample:\n",
      "I Sell Onions on the Internet\n"
     ]
    }
   ],
   "source": [
    "# Find all articles, extract titles\n",
    "articles = []\n",
    "summaries = soup.find_all(\"tr\", class_=\"athing\")\n",
    "for summary in summaries:\n",
    "    title = summary.find(\"a\", class_=\"storylink\").get_text().strip()\n",
    "    articles.append((title))\n",
    "\n",
    "print(len(articles), \"Article summaries found. Sample:\")\n",
    "print(articles[0])"
   ]
  },
  {
   "cell_type": "markdown",
   "metadata": {
    "collapsed": true
   },
   "source": [
    "## Normalization"
   ]
  },
  {
   "cell_type": "markdown",
   "metadata": {},
   "source": [
    "### Case Normalization"
   ]
  },
  {
   "cell_type": "code",
   "execution_count": 10,
   "metadata": {},
   "outputs": [
    {
     "name": "stdout",
     "output_type": "stream",
     "text": [
      "The first time you see The Second Renaissance it may look boring. Look at it at least twice and definitely watch part 2. It will change your view of the matrix. Are the human people the ones who started the war ? Is AI a bad thing ?\n"
     ]
    }
   ],
   "source": [
    "# Sample text\n",
    "text = \"The first time you see The Second Renaissance it may look boring. Look at it at least twice and definitely watch part 2. It will change your view of the matrix. Are the human people the ones who started the war ? Is AI a bad thing ?\"\n",
    "print(text)"
   ]
  },
  {
   "cell_type": "code",
   "execution_count": 11,
   "metadata": {},
   "outputs": [
    {
     "name": "stdout",
     "output_type": "stream",
     "text": [
      "the first time you see the second renaissance it may look boring. look at it at least twice and definitely watch part 2. it will change your view of the matrix. are the human people the ones who started the war ? is ai a bad thing ?\n"
     ]
    }
   ],
   "source": [
    "# Convert to lowercase\n",
    "text = text.lower() \n",
    "print(text)"
   ]
  },
  {
   "cell_type": "markdown",
   "metadata": {},
   "source": [
    "### Punctuation Removal"
   ]
  },
  {
   "cell_type": "code",
   "execution_count": 12,
   "metadata": {},
   "outputs": [
    {
     "name": "stdout",
     "output_type": "stream",
     "text": [
      "the first time you see the second renaissance it may look boring  look at it at least twice and definitely watch part 2  it will change your view of the matrix  are the human people the ones who started the war   is ai a bad thing  \n"
     ]
    }
   ],
   "source": [
    "import re\n",
    "\n",
    "# Remove punctuation characters\n",
    "text = re.sub(r\"[^a-zA-Z0-9]\", \" \", text) \n",
    "print(text)"
   ]
  },
  {
   "cell_type": "markdown",
   "metadata": {},
   "source": [
    "## Tokenization"
   ]
  },
  {
   "cell_type": "code",
   "execution_count": 13,
   "metadata": {},
   "outputs": [
    {
     "name": "stdout",
     "output_type": "stream",
     "text": [
      "['the', 'first', 'time', 'you', 'see', 'the', 'second', 'renaissance', 'it', 'may', 'look', 'boring', 'look', 'at', 'it', 'at', 'least', 'twice', 'and', 'definitely', 'watch', 'part', '2', 'it', 'will', 'change', 'your', 'view', 'of', 'the', 'matrix', 'are', 'the', 'human', 'people', 'the', 'ones', 'who', 'started', 'the', 'war', 'is', 'ai', 'a', 'bad', 'thing']\n"
     ]
    }
   ],
   "source": [
    "# Split text into tokens (words)\n",
    "words = text.split()\n",
    "print(words)"
   ]
  },
  {
   "cell_type": "markdown",
   "metadata": {},
   "source": [
    "### NLTK: Natural Language ToolKit"
   ]
  },
  {
   "cell_type": "code",
   "execution_count": 14,
   "metadata": {},
   "outputs": [],
   "source": [
    "import os\n",
    "import nltk\n",
    "nltk.data.path.append(os.path.join(os.getcwd(), \"nltk_data\"))"
   ]
  },
  {
   "cell_type": "code",
   "execution_count": 15,
   "metadata": {},
   "outputs": [
    {
     "name": "stdout",
     "output_type": "stream",
     "text": [
      "Dr. Smith graduated from the University of Washington. He later started an analytics firm called Lux, which catered to enterprise customers.\n"
     ]
    }
   ],
   "source": [
    "# Another sample text\n",
    "text = \"Dr. Smith graduated from the University of Washington. He later started an analytics firm called Lux, which catered to enterprise customers.\"\n",
    "print(text)"
   ]
  },
  {
   "cell_type": "code",
   "execution_count": 16,
   "metadata": {},
   "outputs": [
    {
     "name": "stdout",
     "output_type": "stream",
     "text": [
      "['Dr.', 'Smith', 'graduated', 'from', 'the', 'University', 'of', 'Washington', '.', 'He', 'later', 'started', 'an', 'analytics', 'firm', 'called', 'Lux', ',', 'which', 'catered', 'to', 'enterprise', 'customers', '.']\n"
     ]
    }
   ],
   "source": [
    "from nltk.tokenize import word_tokenize\n",
    "\n",
    "# Split text into words using NLTK\n",
    "words = word_tokenize(text)\n",
    "print(words)"
   ]
  },
  {
   "cell_type": "code",
   "execution_count": 17,
   "metadata": {},
   "outputs": [
    {
     "name": "stdout",
     "output_type": "stream",
     "text": [
      "['Dr. Smith graduated from the University of Washington.', 'He later started an analytics firm called Lux, which catered to enterprise customers.']\n"
     ]
    }
   ],
   "source": [
    "from nltk.tokenize import sent_tokenize\n",
    "\n",
    "# Split text into sentences\n",
    "sentences = sent_tokenize(text)\n",
    "print(sentences)"
   ]
  },
  {
   "cell_type": "code",
   "execution_count": 18,
   "metadata": {},
   "outputs": [
    {
     "name": "stdout",
     "output_type": "stream",
     "text": [
      "['i', 'me', 'my', 'myself', 'we', 'our', 'ours', 'ourselves', 'you', \"you're\", \"you've\", \"you'll\", \"you'd\", 'your', 'yours', 'yourself', 'yourselves', 'he', 'him', 'his', 'himself', 'she', \"she's\", 'her', 'hers', 'herself', 'it', \"it's\", 'its', 'itself', 'they', 'them', 'their', 'theirs', 'themselves', 'what', 'which', 'who', 'whom', 'this', 'that', \"that'll\", 'these', 'those', 'am', 'is', 'are', 'was', 'were', 'be', 'been', 'being', 'have', 'has', 'had', 'having', 'do', 'does', 'did', 'doing', 'a', 'an', 'the', 'and', 'but', 'if', 'or', 'because', 'as', 'until', 'while', 'of', 'at', 'by', 'for', 'with', 'about', 'against', 'between', 'into', 'through', 'during', 'before', 'after', 'above', 'below', 'to', 'from', 'up', 'down', 'in', 'out', 'on', 'off', 'over', 'under', 'again', 'further', 'then', 'once', 'here', 'there', 'when', 'where', 'why', 'how', 'all', 'any', 'both', 'each', 'few', 'more', 'most', 'other', 'some', 'such', 'no', 'nor', 'not', 'only', 'own', 'same', 'so', 'than', 'too', 'very', 's', 't', 'can', 'will', 'just', 'don', \"don't\", 'should', \"should've\", 'now', 'd', 'll', 'm', 'o', 're', 've', 'y', 'ain', 'aren', \"aren't\", 'couldn', \"couldn't\", 'didn', \"didn't\", 'doesn', \"doesn't\", 'hadn', \"hadn't\", 'hasn', \"hasn't\", 'haven', \"haven't\", 'isn', \"isn't\", 'ma', 'mightn', \"mightn't\", 'mustn', \"mustn't\", 'needn', \"needn't\", 'shan', \"shan't\", 'shouldn', \"shouldn't\", 'wasn', \"wasn't\", 'weren', \"weren't\", 'won', \"won't\", 'wouldn', \"wouldn't\"]\n"
     ]
    }
   ],
   "source": [
    "# List stop words\n",
    "from nltk.corpus import stopwords\n",
    "print(stopwords.words(\"english\"))"
   ]
  },
  {
   "cell_type": "code",
   "execution_count": 19,
   "metadata": {},
   "outputs": [
    {
     "name": "stdout",
     "output_type": "stream",
     "text": [
      "['the', 'first', 'time', 'you', 'see', 'the', 'second', 'renaissance', 'it', 'may', 'look', 'boring', 'look', 'at', 'it', 'at', 'least', 'twice', 'and', 'definitely', 'watch', 'part', '2', 'it', 'will', 'change', 'your', 'view', 'of', 'the', 'matrix', 'are', 'the', 'human', 'people', 'the', 'ones', 'who', 'started', 'the', 'war', 'is', 'ai', 'a', 'bad', 'thing']\n"
     ]
    }
   ],
   "source": [
    "# Reset text\n",
    "text = \"The first time you see The Second Renaissance it may look boring. Look at it at least twice and definitely watch part 2. It will change your view of the matrix. Are the human people the ones who started the war ? Is AI a bad thing ?\"\n",
    "\n",
    "# Normalize it\n",
    "text = re.sub(r\"[^a-zA-Z0-9]\", \" \", text.lower())\n",
    "\n",
    "# Tokenize it\n",
    "words = text.split()\n",
    "print(words)"
   ]
  },
  {
   "cell_type": "code",
   "execution_count": 20,
   "metadata": {},
   "outputs": [
    {
     "name": "stdout",
     "output_type": "stream",
     "text": [
      "['first', 'time', 'see', 'second', 'renaissance', 'may', 'look', 'boring', 'look', 'least', 'twice', 'definitely', 'watch', 'part', '2', 'change', 'view', 'matrix', 'human', 'people', 'ones', 'started', 'war', 'ai', 'bad', 'thing']\n"
     ]
    }
   ],
   "source": [
    "# Remove stop words\n",
    "words = [w for w in words if w not in stopwords.words(\"english\")]\n",
    "print(words)"
   ]
  },
  {
   "cell_type": "markdown",
   "metadata": {},
   "source": [
    "### Sentence Parsing"
   ]
  },
  {
   "cell_type": "code",
   "execution_count": 21,
   "metadata": {},
   "outputs": [
    {
     "name": "stdout",
     "output_type": "stream",
     "text": [
      "(S\n",
      "  (NP I)\n",
      "  (VP\n",
      "    (VP (V shot) (NP (Det an) (N elephant)))\n",
      "    (PP (P in) (NP (Det my) (N pajamas)))))\n",
      "(S\n",
      "  (NP I)\n",
      "  (VP\n",
      "    (V shot)\n",
      "    (NP (Det an) (N elephant) (PP (P in) (NP (Det my) (N pajamas))))))\n"
     ]
    }
   ],
   "source": [
    "import nltk\n",
    "\n",
    "# Define a custom grammar\n",
    "my_grammar = nltk.CFG.fromstring(\"\"\"\n",
    "S -> NP VP\n",
    "PP -> P NP\n",
    "NP -> Det N | Det N PP | 'I'\n",
    "VP -> V NP | VP PP\n",
    "Det -> 'an' | 'my'\n",
    "N -> 'elephant' | 'pajamas'\n",
    "V -> 'shot'\n",
    "P -> 'in'\n",
    "\"\"\")\n",
    "parser = nltk.ChartParser(my_grammar)\n",
    "\n",
    "# Parse a sentence\n",
    "sentence = word_tokenize(\"I shot an elephant in my pajamas\")\n",
    "for tree in parser.parse(sentence):\n",
    "    print(tree)"
   ]
  },
  {
   "cell_type": "markdown",
   "metadata": {},
   "source": [
    "## Stemming & Lemmatization\n",
    "\n",
    "### Stemming"
   ]
  },
  {
   "cell_type": "code",
   "execution_count": 22,
   "metadata": {},
   "outputs": [
    {
     "name": "stdout",
     "output_type": "stream",
     "text": [
      "['first', 'time', 'see', 'second', 'renaiss', 'may', 'look', 'bore', 'look', 'least', 'twice', 'definit', 'watch', 'part', '2', 'chang', 'view', 'matrix', 'human', 'peopl', 'one', 'start', 'war', 'ai', 'bad', 'thing']\n"
     ]
    }
   ],
   "source": [
    "from nltk.stem.porter import PorterStemmer\n",
    "\n",
    "# Reduce words to their stems\n",
    "stemmed = [PorterStemmer().stem(w) for w in words]\n",
    "print(stemmed)"
   ]
  },
  {
   "cell_type": "markdown",
   "metadata": {},
   "source": [
    "### Lemmatization"
   ]
  },
  {
   "cell_type": "code",
   "execution_count": 23,
   "metadata": {},
   "outputs": [
    {
     "name": "stdout",
     "output_type": "stream",
     "text": [
      "['first', 'time', 'see', 'second', 'renaissance', 'may', 'look', 'boring', 'look', 'least', 'twice', 'definitely', 'watch', 'part', '2', 'change', 'view', 'matrix', 'human', 'people', 'one', 'started', 'war', 'ai', 'bad', 'thing']\n"
     ]
    }
   ],
   "source": [
    "from nltk.stem.wordnet import WordNetLemmatizer\n",
    "\n",
    "# Reduce words to their root form\n",
    "lemmed = [WordNetLemmatizer().lemmatize(w) for w in words]\n",
    "print(lemmed)"
   ]
  },
  {
   "cell_type": "code",
   "execution_count": 24,
   "metadata": {},
   "outputs": [
    {
     "name": "stdout",
     "output_type": "stream",
     "text": [
      "['first', 'time', 'see', 'second', 'renaissance', 'may', 'look', 'bore', 'look', 'least', 'twice', 'definitely', 'watch', 'part', '2', 'change', 'view', 'matrix', 'human', 'people', 'one', 'start', 'war', 'ai', 'bad', 'thing']\n"
     ]
    }
   ],
   "source": [
    "# Lemmatize verbs by specifying pos\n",
    "lemmed = [WordNetLemmatizer().lemmatize(w, pos='v') for w in lemmed]\n",
    "print(lemmed)"
   ]
  },
  {
   "cell_type": "code",
   "execution_count": null,
   "metadata": {},
   "outputs": [
    {
     "name": "stdout",
     "output_type": "stream",
     "text": [
      "data/\n",
      "data/game-theory.txt\n",
      "data/apple.txt\n",
      "data/house-with-chimaeras.txt\n",
      "data/hieroglyph.txt\n",
      "data/news.csv\n",
      "data/kingfisher.txt\n",
      "nltk_data/\n",
      "nltk_data/corpora/\n",
      "nltk_data/corpora/wordnet/\n",
      "nltk_data/corpora/wordnet/README\n",
      "nltk_data/corpora/wordnet/data.adj\n",
      "nltk_data/corpora/wordnet/LICENSE\n",
      "nltk_data/corpora/wordnet/cntlist.rev\n",
      "nltk_data/corpora/wordnet/citation.bib\n",
      "nltk_data/corpora/wordnet/index.sense\n",
      "nltk_data/corpora/wordnet/index.adv\n",
      "nltk_data/corpora/wordnet/data.adv\n",
      "nltk_data/corpora/wordnet/data.noun\n"
     ]
    }
   ],
   "source": [
    "!tar cvfz allfiles.tar.gz * "
   ]
  }
 ],
 "metadata": {
  "kernelspec": {
   "display_name": "Python 3",
   "language": "python",
   "name": "python3"
  },
  "language_info": {
   "codemirror_mode": {
    "name": "ipython",
    "version": 3
   },
   "file_extension": ".py",
   "mimetype": "text/x-python",
   "name": "python",
   "nbconvert_exporter": "python",
   "pygments_lexer": "ipython3",
   "version": "3.6.3"
  }
 },
 "nbformat": 4,
 "nbformat_minor": 2
}
